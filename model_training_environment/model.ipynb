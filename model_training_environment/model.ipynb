{
 "cells": [
  {
   "cell_type": "code",
   "execution_count": 68,
   "id": "14f402a7-dc15-42c4-9c79-3691df513d43",
   "metadata": {},
   "outputs": [],
   "source": [
    "import numpy as np\n",
    "import pandas as pd \n",
    "import json\n",
    "import string"
   ]
  },
  {
   "cell_type": "code",
   "execution_count": 69,
   "id": "ba08dae7-2873-462e-8d80-3759cc48173d",
   "metadata": {},
   "outputs": [],
   "source": [
    "import nltk"
   ]
  },
  {
   "cell_type": "code",
   "execution_count": 70,
   "id": "7ee1a93c-de31-4ca6-9f98-efa7c0c5856c",
   "metadata": {},
   "outputs": [
    {
     "name": "stderr",
     "output_type": "stream",
     "text": [
      "[nltk_data] Downloading package stopwords to\n",
      "[nltk_data]     /Users/nicholaskunze/nltk_data...\n",
      "[nltk_data]   Package stopwords is already up-to-date!\n"
     ]
    },
    {
     "data": {
      "text/plain": [
       "True"
      ]
     },
     "execution_count": 70,
     "metadata": {},
     "output_type": "execute_result"
    }
   ],
   "source": [
    "nltk.download('stopwords')"
   ]
  },
  {
   "cell_type": "code",
   "execution_count": 71,
   "id": "19f44b64-7c77-4e04-83c0-5288cffadf9b",
   "metadata": {},
   "outputs": [],
   "source": [
    "from nltk.corpus import stopwords"
   ]
  },
  {
   "cell_type": "code",
   "execution_count": 72,
   "id": "87d6d78d-4fad-44c3-9baf-d5f4edd78ffe",
   "metadata": {},
   "outputs": [],
   "source": [
    "# Functionality for preprocessing the data independent of the training and inference process\n",
    "class PreprocessingHelper: \n",
    "\n",
    "    def __init__(self, labels): \n",
    "        self.labels = labels\n",
    "    \n",
    "    # Read in data \n",
    "    # Produces a dataframe of the form label | inputs\n",
    "    def read_in_json(self, data_src): \n",
    "\n",
    "        f = open(data_src, \"r\")\n",
    "        json_data = f.read()\n",
    "        f.close()\n",
    "\n",
    "        data = json.loads(json_data)\n",
    "        df = pd.json_normalize(data['intents'])\n",
    "\n",
    "        df_sentences = pd.DataFrame({\"label\": [], \"input\": []})\n",
    "\n",
    "        labels = []\n",
    "        inputs = []\n",
    "    \n",
    "\n",
    "        for index, row in df.iterrows(): \n",
    "            for sentence in row[\"input\"]:\n",
    "                labels.append(row[\"label\"])\n",
    "                inputs.append(sentence)\n",
    "            \n",
    "        df_sentences[\"label\"] = labels\n",
    "        df_sentences[\"input\"] = inputs\n",
    "    \n",
    "        return df_sentences\n",
    "\n",
    "    # Function that encodes labels as One Hot Vectors\n",
    "    def one_hot_labels(self, sentence): \n",
    "        return [1 if sentence == label else 0 for label in self.labels]\n",
    "\n",
    "        \n",
    "    # Crate bag of words\n",
    "    # Expects dataframe of form specified in the upper function \n",
    "    def fill_bag_of_words(self,table): \n",
    "        vocabulary = []\n",
    "        for row in table:\n",
    "            for word in row: \n",
    "                vocabulary.append(word)\n",
    "        return [x for x in set(vocabulary)]"
   ]
  },
  {
   "cell_type": "code",
   "execution_count": 73,
   "id": "8eac99b5-3a99-40f4-8f2f-0a98cdaf83a6",
   "metadata": {},
   "outputs": [],
   "source": [
    "# Functionality for the forward pass \n",
    "class ChatBotHelper: \n",
    "\n",
    "    def __init__(self, bag_of_words): \n",
    "        self.bag_of_words = bag_of_words\n",
    "\n",
    "    @staticmethod\n",
    "    def nlp_preprocessing(sentence): \n",
    "        stop_words = set(stopwords.words('english'))\n",
    "\n",
    "        tokens = nltk.word_tokenize(sentence) \n",
    "\n",
    "        lowercased_tokens = [token.lower() for token in tokens]\n",
    "        \n",
    "        filtered_tokens_stopwords = [token for token in lowercased_tokens if token not in stop_words]\n",
    "\n",
    "        filtered_tokens = [token for token in filtered_tokens_stopwords if token not in string.punctuation]\n",
    "\n",
    "        return filtered_tokens\n",
    "    \n",
    "    def embed(self, sentence):\n",
    "        return [1 if word in sentence else 0 for word in self.bag_of_words]\n",
    "\n",
    "    "
   ]
  },
  {
   "cell_type": "code",
   "execution_count": 74,
   "id": "9c75e888-4b19-45af-863c-8cc0fb57df53",
   "metadata": {},
   "outputs": [],
   "source": [
    "# Create Training and Test Set \n",
    "preprocessingHelper = PreprocessingHelper([\"greeting\", \"weather\", \"news\", \"motivation\", \"breakfast\"])\n",
    "\n",
    "training_data = preprocessingHelper.read_in_json(\"Data/training_data.json\")\n",
    "\n",
    "training_data = training_data.sample(frac=1).reset_index(drop=True)\n",
    "\n",
    "training_data_x, training_data_y = training_data['input'], training_data['label']\n",
    "\n",
    "training_data_x = training_data_x.apply(lambda x: ChatBotHelper.nlp_preprocessing(x))\n",
    "\n",
    "\n",
    "bag_of_words = preprocessingHelper.fill_bag_of_words(training_data_x)\n",
    "\n",
    "chatbotHelper = ChatBotHelper(bag_of_words)\n",
    "\n",
    "X_train = np.array(training_data_x.apply(lambda x: chatbotHelper.embed(x)).tolist())\n",
    "y_train = np.array(training_data_y.apply(lambda x: preprocessingHelper.one_hot_labels(x)).tolist())\n"
   ]
  },
  {
   "cell_type": "code",
   "execution_count": 75,
   "id": "cfcf3aa3-5c63-47fb-b9c6-798c6a04c000",
   "metadata": {},
   "outputs": [],
   "source": [
    "test_data = preprocessingHelper.read_in_json(\"Data/test_data.json\")\n",
    "\n",
    "test_data_x, test_data_y = test_data['input'], test_data['label']\n",
    "\n",
    "test_data_x = test_data_x.apply(lambda x: ChatBotHelper.nlp_preprocessing(x))\n",
    "\n",
    "X_test = np.array(test_data_x.apply(lambda x: chatbotHelper.embed(x)).tolist())\n",
    "y_test = np.array(test_data_y.apply(lambda x: preprocessingHelper.one_hot_labels(x)).tolist())"
   ]
  },
  {
   "cell_type": "code",
   "execution_count": 76,
   "id": "6855c8d0-0345-4fd8-87be-962a4670d7c9",
   "metadata": {},
   "outputs": [
    {
     "name": "stdout",
     "output_type": "stream",
     "text": [
      "Epoch 1/50\n",
      "\u001b[1m4/4\u001b[0m \u001b[32m━━━━━━━━━━━━━━━━━━━━\u001b[0m\u001b[37m\u001b[0m \u001b[1m0s\u001b[0m 2ms/step - accuracy: 0.1942 - loss: 1.6012  \n",
      "Epoch 2/50\n",
      "\u001b[1m4/4\u001b[0m \u001b[32m━━━━━━━━━━━━━━━━━━━━\u001b[0m\u001b[37m\u001b[0m \u001b[1m0s\u001b[0m 2ms/step - accuracy: 0.2644 - loss: 1.5807\n",
      "Epoch 3/50\n",
      "\u001b[1m4/4\u001b[0m \u001b[32m━━━━━━━━━━━━━━━━━━━━\u001b[0m\u001b[37m\u001b[0m \u001b[1m0s\u001b[0m 2ms/step - accuracy: 0.2511 - loss: 1.5673\n",
      "Epoch 4/50\n",
      "\u001b[1m4/4\u001b[0m \u001b[32m━━━━━━━━━━━━━━━━━━━━\u001b[0m\u001b[37m\u001b[0m \u001b[1m0s\u001b[0m 2ms/step - accuracy: 0.4222 - loss: 1.5325\n",
      "Epoch 5/50\n",
      "\u001b[1m4/4\u001b[0m \u001b[32m━━━━━━━━━━━━━━━━━━━━\u001b[0m\u001b[37m\u001b[0m \u001b[1m0s\u001b[0m 2ms/step - accuracy: 0.4702 - loss: 1.4835\n",
      "Epoch 6/50\n",
      "\u001b[1m4/4\u001b[0m \u001b[32m━━━━━━━━━━━━━━━━━━━━\u001b[0m\u001b[37m\u001b[0m \u001b[1m0s\u001b[0m 2ms/step - accuracy: 0.6204 - loss: 1.4609\n",
      "Epoch 7/50\n",
      "\u001b[1m4/4\u001b[0m \u001b[32m━━━━━━━━━━━━━━━━━━━━\u001b[0m\u001b[37m\u001b[0m \u001b[1m0s\u001b[0m 2ms/step - accuracy: 0.5880 - loss: 1.4304\n",
      "Epoch 8/50\n",
      "\u001b[1m4/4\u001b[0m \u001b[32m━━━━━━━━━━━━━━━━━━━━\u001b[0m\u001b[37m\u001b[0m \u001b[1m0s\u001b[0m 2ms/step - accuracy: 0.6711 - loss: 1.4043\n",
      "Epoch 9/50\n",
      "\u001b[1m4/4\u001b[0m \u001b[32m━━━━━━━━━━━━━━━━━━━━\u001b[0m\u001b[37m\u001b[0m \u001b[1m0s\u001b[0m 2ms/step - accuracy: 0.6449 - loss: 1.3749\n",
      "Epoch 10/50\n",
      "\u001b[1m4/4\u001b[0m \u001b[32m━━━━━━━━━━━━━━━━━━━━\u001b[0m\u001b[37m\u001b[0m \u001b[1m0s\u001b[0m 2ms/step - accuracy: 0.7049 - loss: 1.3949\n",
      "Epoch 11/50\n",
      "\u001b[1m4/4\u001b[0m \u001b[32m━━━━━━━━━━━━━━━━━━━━\u001b[0m\u001b[37m\u001b[0m \u001b[1m0s\u001b[0m 2ms/step - accuracy: 0.6871 - loss: 1.3142\n",
      "Epoch 12/50\n",
      "\u001b[1m4/4\u001b[0m \u001b[32m━━━━━━━━━━━━━━━━━━━━\u001b[0m\u001b[37m\u001b[0m \u001b[1m0s\u001b[0m 2ms/step - accuracy: 0.8084 - loss: 1.2765\n",
      "Epoch 13/50\n",
      "\u001b[1m4/4\u001b[0m \u001b[32m━━━━━━━━━━━━━━━━━━━━\u001b[0m\u001b[37m\u001b[0m \u001b[1m0s\u001b[0m 2ms/step - accuracy: 0.8436 - loss: 1.2600\n",
      "Epoch 14/50\n",
      "\u001b[1m4/4\u001b[0m \u001b[32m━━━━━━━━━━━━━━━━━━━━\u001b[0m\u001b[37m\u001b[0m \u001b[1m0s\u001b[0m 2ms/step - accuracy: 0.7631 - loss: 1.2283\n",
      "Epoch 15/50\n",
      "\u001b[1m4/4\u001b[0m \u001b[32m━━━━━━━━━━━━━━━━━━━━\u001b[0m\u001b[37m\u001b[0m \u001b[1m0s\u001b[0m 2ms/step - accuracy: 0.7093 - loss: 1.2389\n",
      "Epoch 16/50\n",
      "\u001b[1m4/4\u001b[0m \u001b[32m━━━━━━━━━━━━━━━━━━━━\u001b[0m\u001b[37m\u001b[0m \u001b[1m0s\u001b[0m 2ms/step - accuracy: 0.9169 - loss: 1.1616\n",
      "Epoch 17/50\n",
      "\u001b[1m4/4\u001b[0m \u001b[32m━━━━━━━━━━━━━━━━━━━━\u001b[0m\u001b[37m\u001b[0m \u001b[1m0s\u001b[0m 2ms/step - accuracy: 0.7933 - loss: 1.1127\n",
      "Epoch 18/50\n",
      "\u001b[1m4/4\u001b[0m \u001b[32m━━━━━━━━━━━━━━━━━━━━\u001b[0m\u001b[37m\u001b[0m \u001b[1m0s\u001b[0m 2ms/step - accuracy: 0.8711 - loss: 1.0973\n",
      "Epoch 19/50\n",
      "\u001b[1m4/4\u001b[0m \u001b[32m━━━━━━━━━━━━━━━━━━━━\u001b[0m\u001b[37m\u001b[0m \u001b[1m0s\u001b[0m 2ms/step - accuracy: 0.8764 - loss: 1.0210\n",
      "Epoch 20/50\n",
      "\u001b[1m4/4\u001b[0m \u001b[32m━━━━━━━━━━━━━━━━━━━━\u001b[0m\u001b[37m\u001b[0m \u001b[1m0s\u001b[0m 2ms/step - accuracy: 0.8764 - loss: 0.9995\n",
      "Epoch 21/50\n",
      "\u001b[1m4/4\u001b[0m \u001b[32m━━━━━━━━━━━━━━━━━━━━\u001b[0m\u001b[37m\u001b[0m \u001b[1m0s\u001b[0m 2ms/step - accuracy: 0.8978 - loss: 0.9306\n",
      "Epoch 22/50\n",
      "\u001b[1m4/4\u001b[0m \u001b[32m━━━━━━━━━━━━━━━━━━━━\u001b[0m\u001b[37m\u001b[0m \u001b[1m0s\u001b[0m 2ms/step - accuracy: 0.9293 - loss: 0.8941\n",
      "Epoch 23/50\n",
      "\u001b[1m4/4\u001b[0m \u001b[32m━━━━━━━━━━━━━━━━━━━━\u001b[0m\u001b[37m\u001b[0m \u001b[1m0s\u001b[0m 2ms/step - accuracy: 0.9351 - loss: 0.8528\n",
      "Epoch 24/50\n",
      "\u001b[1m4/4\u001b[0m \u001b[32m━━━━━━━━━━━━━━━━━━━━\u001b[0m\u001b[37m\u001b[0m \u001b[1m0s\u001b[0m 2ms/step - accuracy: 1.0000 - loss: 0.7261\n",
      "Epoch 25/50\n",
      "\u001b[1m4/4\u001b[0m \u001b[32m━━━━━━━━━━━━━━━━━━━━\u001b[0m\u001b[37m\u001b[0m \u001b[1m0s\u001b[0m 2ms/step - accuracy: 1.0000 - loss: 0.6427\n",
      "Epoch 26/50\n",
      "\u001b[1m4/4\u001b[0m \u001b[32m━━━━━━━━━━━━━━━━━━━━\u001b[0m\u001b[37m\u001b[0m \u001b[1m0s\u001b[0m 2ms/step - accuracy: 0.9729 - loss: 0.6636\n",
      "Epoch 27/50\n",
      "\u001b[1m4/4\u001b[0m \u001b[32m━━━━━━━━━━━━━━━━━━━━\u001b[0m\u001b[37m\u001b[0m \u001b[1m0s\u001b[0m 2ms/step - accuracy: 0.9684 - loss: 0.6068\n",
      "Epoch 28/50\n",
      "\u001b[1m4/4\u001b[0m \u001b[32m━━━━━━━━━━━━━━━━━━━━\u001b[0m\u001b[37m\u001b[0m \u001b[1m0s\u001b[0m 2ms/step - accuracy: 0.9427 - loss: 0.6168\n",
      "Epoch 29/50\n",
      "\u001b[1m4/4\u001b[0m \u001b[32m━━━━━━━━━━━━━━━━━━━━\u001b[0m\u001b[37m\u001b[0m \u001b[1m0s\u001b[0m 2ms/step - accuracy: 0.9876 - loss: 0.4720\n",
      "Epoch 30/50\n",
      "\u001b[1m4/4\u001b[0m \u001b[32m━━━━━━━━━━━━━━━━━━━━\u001b[0m\u001b[37m\u001b[0m \u001b[1m0s\u001b[0m 2ms/step - accuracy: 0.9920 - loss: 0.4784\n",
      "Epoch 31/50\n",
      "\u001b[1m4/4\u001b[0m \u001b[32m━━━━━━━━━━━━━━━━━━━━\u001b[0m\u001b[37m\u001b[0m \u001b[1m0s\u001b[0m 10ms/step - accuracy: 1.0000 - loss: 0.3929\n",
      "Epoch 32/50\n",
      "\u001b[1m4/4\u001b[0m \u001b[32m━━━━━━━━━━━━━━━━━━━━\u001b[0m\u001b[37m\u001b[0m \u001b[1m0s\u001b[0m 2ms/step - accuracy: 0.9809 - loss: 0.4182\n",
      "Epoch 33/50\n",
      "\u001b[1m4/4\u001b[0m \u001b[32m━━━━━━━━━━━━━━━━━━━━\u001b[0m\u001b[37m\u001b[0m \u001b[1m0s\u001b[0m 2ms/step - accuracy: 1.0000 - loss: 0.3363\n",
      "Epoch 34/50\n",
      "\u001b[1m4/4\u001b[0m \u001b[32m━━━━━━━━━━━━━━━━━━━━\u001b[0m\u001b[37m\u001b[0m \u001b[1m0s\u001b[0m 2ms/step - accuracy: 0.9809 - loss: 0.3483\n",
      "Epoch 35/50\n",
      "\u001b[1m4/4\u001b[0m \u001b[32m━━━━━━━━━━━━━━━━━━━━\u001b[0m\u001b[37m\u001b[0m \u001b[1m0s\u001b[0m 2ms/step - accuracy: 1.0000 - loss: 0.3266\n",
      "Epoch 36/50\n",
      "\u001b[1m4/4\u001b[0m \u001b[32m━━━━━━━━━━━━━━━━━━━━\u001b[0m\u001b[37m\u001b[0m \u001b[1m0s\u001b[0m 2ms/step - accuracy: 1.0000 - loss: 0.2957\n",
      "Epoch 37/50\n",
      "\u001b[1m4/4\u001b[0m \u001b[32m━━━━━━━━━━━━━━━━━━━━\u001b[0m\u001b[37m\u001b[0m \u001b[1m0s\u001b[0m 2ms/step - accuracy: 1.0000 - loss: 0.2565\n",
      "Epoch 38/50\n",
      "\u001b[1m4/4\u001b[0m \u001b[32m━━━━━━━━━━━━━━━━━━━━\u001b[0m\u001b[37m\u001b[0m \u001b[1m0s\u001b[0m 2ms/step - accuracy: 0.9676 - loss: 0.2480\n",
      "Epoch 39/50\n",
      "\u001b[1m4/4\u001b[0m \u001b[32m━━━━━━━━━━━━━━━━━━━━\u001b[0m\u001b[37m\u001b[0m \u001b[1m0s\u001b[0m 2ms/step - accuracy: 0.9876 - loss: 0.2678\n",
      "Epoch 40/50\n",
      "\u001b[1m4/4\u001b[0m \u001b[32m━━━━━━━━━━━━━━━━━━━━\u001b[0m\u001b[37m\u001b[0m \u001b[1m0s\u001b[0m 2ms/step - accuracy: 1.0000 - loss: 0.2095\n",
      "Epoch 41/50\n",
      "\u001b[1m4/4\u001b[0m \u001b[32m━━━━━━━━━━━━━━━━━━━━\u001b[0m\u001b[37m\u001b[0m \u001b[1m0s\u001b[0m 2ms/step - accuracy: 1.0000 - loss: 0.1693\n",
      "Epoch 42/50\n",
      "\u001b[1m4/4\u001b[0m \u001b[32m━━━━━━━━━━━━━━━━━━━━\u001b[0m\u001b[37m\u001b[0m \u001b[1m0s\u001b[0m 2ms/step - accuracy: 1.0000 - loss: 0.1829\n",
      "Epoch 43/50\n",
      "\u001b[1m4/4\u001b[0m \u001b[32m━━━━━━━━━━━━━━━━━━━━\u001b[0m\u001b[37m\u001b[0m \u001b[1m0s\u001b[0m 2ms/step - accuracy: 1.0000 - loss: 0.1544\n",
      "Epoch 44/50\n",
      "\u001b[1m4/4\u001b[0m \u001b[32m━━━━━━━━━━━━━━━━━━━━\u001b[0m\u001b[37m\u001b[0m \u001b[1m0s\u001b[0m 2ms/step - accuracy: 1.0000 - loss: 0.1641\n",
      "Epoch 45/50\n",
      "\u001b[1m4/4\u001b[0m \u001b[32m━━━━━━━━━━━━━━━━━━━━\u001b[0m\u001b[37m\u001b[0m \u001b[1m0s\u001b[0m 2ms/step - accuracy: 0.9809 - loss: 0.1667\n",
      "Epoch 46/50\n",
      "\u001b[1m4/4\u001b[0m \u001b[32m━━━━━━━━━━━━━━━━━━━━\u001b[0m\u001b[37m\u001b[0m \u001b[1m0s\u001b[0m 2ms/step - accuracy: 1.0000 - loss: 0.1345\n",
      "Epoch 47/50\n",
      "\u001b[1m4/4\u001b[0m \u001b[32m━━━━━━━━━━━━━━━━━━━━\u001b[0m\u001b[37m\u001b[0m \u001b[1m0s\u001b[0m 3ms/step - accuracy: 1.0000 - loss: 0.0905\n",
      "Epoch 48/50\n",
      "\u001b[1m4/4\u001b[0m \u001b[32m━━━━━━━━━━━━━━━━━━━━\u001b[0m\u001b[37m\u001b[0m \u001b[1m0s\u001b[0m 2ms/step - accuracy: 1.0000 - loss: 0.1073\n",
      "Epoch 49/50\n",
      "\u001b[1m4/4\u001b[0m \u001b[32m━━━━━━━━━━━━━━━━━━━━\u001b[0m\u001b[37m\u001b[0m \u001b[1m0s\u001b[0m 2ms/step - accuracy: 1.0000 - loss: 0.1441\n",
      "Epoch 50/50\n",
      "\u001b[1m4/4\u001b[0m \u001b[32m━━━━━━━━━━━━━━━━━━━━\u001b[0m\u001b[37m\u001b[0m \u001b[1m0s\u001b[0m 2ms/step - accuracy: 1.0000 - loss: 0.0780\n"
     ]
    },
    {
     "data": {
      "text/plain": [
       "<keras.src.callbacks.history.History at 0x295e7ca10>"
      ]
     },
     "execution_count": 76,
     "metadata": {},
     "output_type": "execute_result"
    }
   ],
   "source": [
    "# Create basic Model \n",
    "from tensorflow.keras.models import Sequential\n",
    "from tensorflow.keras.layers import Dense, Dropout\n",
    "\n",
    "model = Sequential([\n",
    "\n",
    "    Dense(128, input_dim=98, activation='relu'),  # 128 units, ReLU activation\n",
    "    \n",
    "    Dropout(0.5),\n",
    "\n",
    "    Dense(64, activation='relu'),  # 64 units, ReLU activation\n",
    "    \n",
    "    Dense(5, activation='softmax')  # Output layer with softmax for classification\n",
    "])\n",
    "\n",
    "model.compile(optimizer='adam', loss='categorical_crossentropy', metrics=['accuracy'])\n",
    "model.fit(X_train, y_train, epochs=50, batch_size=15)"
   ]
  },
  {
   "cell_type": "code",
   "execution_count": 77,
   "id": "0a391121-6bf9-41ed-aa24-962af155f498",
   "metadata": {},
   "outputs": [
    {
     "name": "stdout",
     "output_type": "stream",
     "text": [
      "\u001b[1m1/1\u001b[0m \u001b[32m━━━━━━━━━━━━━━━━━━━━\u001b[0m\u001b[37m\u001b[0m \u001b[1m0s\u001b[0m 53ms/step - accuracy: 0.6800 - loss: 0.6890\n"
     ]
    },
    {
     "data": {
      "text/plain": [
       "[0.6889844536781311, 0.6800000071525574]"
      ]
     },
     "execution_count": 77,
     "metadata": {},
     "output_type": "execute_result"
    }
   ],
   "source": [
    "model.evaluate(X_test,y_test)"
   ]
  },
  {
   "cell_type": "code",
   "execution_count": 78,
   "id": "4739d8d0-f78d-4111-aa42-2de4fe575c82",
   "metadata": {},
   "outputs": [],
   "source": [
    "# Analyzing the error"
   ]
  },
  {
   "cell_type": "code",
   "execution_count": 79,
   "id": "bd0a0e81-6ca6-470e-b88a-45dfa8adc14a",
   "metadata": {},
   "outputs": [],
   "source": [
    "# Confusion Matrix \n",
    "from sklearn.metrics import confusion_matrix\n",
    "import matplotlib.pyplot as plt\n",
    "import seaborn as sns"
   ]
  },
  {
   "cell_type": "code",
   "execution_count": 80,
   "id": "fea419fd-de71-4d1a-b169-1a8845792f21",
   "metadata": {},
   "outputs": [
    {
     "name": "stdout",
     "output_type": "stream",
     "text": [
      "\u001b[1m1/1\u001b[0m \u001b[32m━━━━━━━━━━━━━━━━━━━━\u001b[0m\u001b[37m\u001b[0m \u001b[1m0s\u001b[0m 18ms/step\n"
     ]
    },
    {
     "data": {
      "image/png": "[encoded data removed]",
      "text/plain": [
       "<Figure size 800x600 with 2 Axes>"
      ]
     },
     "metadata": {},
     "output_type": "display_data"
    }
   ],
   "source": [
    "class_labels = [\"greeting\", \"weather\", \"news\", \"motivation\", \"breakfast\"]\n",
    "\n",
    "predictions = np.argmax(model.predict(X_test), axis = 1) \n",
    "\n",
    "cnf_matrix = confusion_matrix(np.argmax(y_test, axis=1), predictions)\n",
    "\n",
    "# Plot confusion matrix as a heatmap\n",
    "plt.figure(figsize=(8, 6))\n",
    "sns.heatmap(cnf_matrix, annot=True, fmt='d', cmap='Blues',\n",
    "            xticklabels=class_labels, yticklabels=class_labels)\n",
    "\n",
    "plt.title(\"Confusion Matrix\")\n",
    "plt.xlabel(\"Predicted Label\")\n",
    "plt.ylabel(\"True Label\")\n",
    "plt.tight_layout()\n",
    "plt.show()"
   ]
  },
  {
   "cell_type": "raw",
   "id": "3a323248-7176-45db-8830-994c1c1030d8",
   "metadata": {},
   "source": [
    "From the Heatmap we can follow, that while the model does seem to perform rather good, it struggles with classifying requests for motivation. "
   ]
  },
  {
   "cell_type": "code",
   "execution_count": 81,
   "id": "82091ba0-1c45-4f22-8564-2593a8924f68",
   "metadata": {},
   "outputs": [
    {
     "name": "stdout",
     "output_type": "stream",
     "text": [
      "              precision    recall  f1-score   support\n",
      "\n",
      "    greeting       0.43      0.60      0.50         5\n",
      "     weather       0.80      0.80      0.80         5\n",
      "        news       0.57      0.80      0.67         5\n",
      "  motivation       1.00      0.20      0.33         5\n",
      "   breakfast       1.00      1.00      1.00         5\n",
      "\n",
      "    accuracy                           0.68        25\n",
      "   macro avg       0.76      0.68      0.66        25\n",
      "weighted avg       0.76      0.68      0.66        25\n",
      "\n"
     ]
    }
   ],
   "source": [
    "# Classification Report\n",
    "from sklearn.metrics import classification_report\n",
    "report = classification_report(np.argmax(y_test, axis=1), predictions, target_names=[\"greeting\", \"weather\", \"news\", \"motivation\", \"breakfast\"])\n",
    "print(report)"
   ]
  },
  {
   "cell_type": "raw",
   "id": "ecd79edf-c1eb-4039-85e4-d25c50b6eb70",
   "metadata": {},
   "source": [
    "The metrics support that impression. You can also notice, that the classification of a sentence as news and greeting seem to have a high false positive rate. "
   ]
  },
  {
   "cell_type": "code",
   "execution_count": 82,
   "id": "de4cff49-dcd4-45c8-b671-41d1e8d56bb8",
   "metadata": {},
   "outputs": [],
   "source": [
    "#bag_of_words # (Omitted here for maintaining readibility) "
   ]
  },
  {
   "cell_type": "raw",
   "id": "6fd21107-6931-499b-9b05-1215ec7c390d",
   "metadata": {},
   "source": [
    "The bag of words contains still some unwanted filler words, which we do not want to base our predictions on. "
   ]
  },
  {
   "cell_type": "code",
   "execution_count": 83,
   "id": "76fd5131-e286-41ec-a9c5-9ead1ef092a2",
   "metadata": {},
   "outputs": [],
   "source": [
    "#training_data_x # (Omitted here for maintaining readibility) "
   ]
  },
  {
   "cell_type": "code",
   "execution_count": 84,
   "id": "45ccfb46-73b2-4b89-8884-159c14f7b5c5",
   "metadata": {},
   "outputs": [
    {
     "data": {
      "text/plain": [
       "array([1, 2, 1, 0, 1, 3, 1, 2, 3, 2, 1, 3, 2, 3, 2, 2, 1, 2, 0, 1, 3, 5,\n",
       "       2, 2, 3])"
      ]
     },
     "execution_count": 84,
     "metadata": {},
     "output_type": "execute_result"
    }
   ],
   "source": [
    "np.sum(X_test, axis=1)"
   ]
  },
  {
   "cell_type": "code",
   "execution_count": 85,
   "id": "35d14805-1a82-4f92-a0f4-53f4bd9455c1",
   "metadata": {},
   "outputs": [
    {
     "data": {
      "text/plain": [
       "array([1, 2, 1, 0, 1, 3, 1, 2, 3, 2, 1, 3, 2, 3, 2, 2, 1, 2, 0, 1, 3, 5,\n",
       "       2, 2, 3])"
      ]
     },
     "execution_count": 85,
     "metadata": {},
     "output_type": "execute_result"
    }
   ],
   "source": [
    "np.sum(X_test, axis=1)"
   ]
  },
  {
   "cell_type": "raw",
   "id": "63cc6e39-0644-4e34-aa31-b1f7fed52703",
   "metadata": {},
   "source": [
    "Summary of observations \n",
    "=> There are still some filler words in the bag of words, which we do not want to base our predictions on like \"'\", \"'s\"\n",
    "=> Some words don't have any overlap with the bag of words, so we might want to add a \"Don't know\" to avoid misclassification \n",
    "=> We might want to add some form of lemmatization for generalizability \n",
    "=> We might want to add a measure of similarity to not disregard mispellings dierctly "
   ]
  },
  {
   "cell_type": "code",
   "execution_count": 86,
   "id": "6e35b60e-95ce-420a-9331-0c4ddbb4637f",
   "metadata": {},
   "outputs": [],
   "source": [
    "from difflib import SequenceMatcher\n",
    "\n",
    "# ChatBotHelper extended by the functionality described above \n",
    "class ChatBotHelper_Improved: \n",
    "\n",
    "    def __init__(self, bag_of_words): \n",
    "        self.bag_of_words = bag_of_words\n",
    "    \n",
    "    @staticmethod\n",
    "    def nlp_preprocessing(sentence): \n",
    "        stop_words = set(stopwords.words('english'))\n",
    "\n",
    "        tokens = nltk.word_tokenize(sentence) \n",
    "\n",
    "        lowercased_tokens = [token.lower() for token in tokens]\n",
    "        \n",
    "        filtered_tokens_stopwords = [token for token in lowercased_tokens if token not in stop_words]\n",
    "\n",
    "        filtered_tokens = [token for token in filtered_tokens_stopwords if token not in string.punctuation]\n",
    "\n",
    "        # Remove filler tokens\n",
    "        filler_filtered_tokens = [token for token in filtered_tokens if token not in [\"'\",\"'s\", \"’\"]]\n",
    "\n",
    "        return filler_filtered_tokens\n",
    "        \n",
    "    \n",
    "    def embed(self, sentence):\n",
    "        return [1 if word in sentence else 0 for word in self.bag_of_words or lexical_similarity(word, word2)>0.75]\n",
    "\n",
    "    def lexical_similarity(word1, word2):\n",
    "        # Ratio of longest common subsequence\n",
    "        return SequenceMatcher(None, word1, word2).ratio()\n",
    "        \n",
    "\n",
    "    "
   ]
  },
  {
   "cell_type": "code",
   "execution_count": 87,
   "id": "756cc1fd-dbb2-41c5-9a9f-1122add344d0",
   "metadata": {},
   "outputs": [],
   "source": [
    "# Mehr Daten für Motivation\n",
    "def add_data(df):\n",
    "    new_rows = pd.DataFrame([\n",
    "        {'label': 'motivation', 'input': 'Give me some words of motivation'}\n",
    "        \n",
    "    ])\n",
    "    return pd.concat([df, new_rows], ignore_index=True)"
   ]
  },
  {
   "cell_type": "code",
   "execution_count": 88,
   "id": "544e4f5d-8ef6-44b3-9944-cee4a23a8fcc",
   "metadata": {},
   "outputs": [],
   "source": [
    "# Create Training and Test Set \n",
    "preprocessingHelper = PreprocessingHelper([\"greeting\", \"weather\", \"news\", \"motivation\", \"breakfast\"])\n",
    "\n",
    "training_data = preprocessingHelper.read_in_json(\"Data/training_data.json\")\n",
    "\n",
    "training_data = add_data(training_data)\n",
    "\n",
    "training_data = training_data.sample(frac=1).reset_index(drop=True)\n",
    "\n",
    "training_data_x, training_data_y = training_data['input'], training_data['label']\n",
    "\n",
    "training_data_x = training_data_x.apply(lambda x: ChatBotHelper.nlp_preprocessing(x))\n",
    "\n",
    "\n",
    "bag_of_words = preprocessingHelper.fill_bag_of_words(training_data_x)\n",
    "\n",
    "chatbotHelper = ChatBotHelper_Improved(bag_of_words)\n",
    "\n",
    "X_train_improved = np.array(training_data_x.apply(lambda x: chatbotHelper.embed(x)).tolist())\n",
    "y_train_improved = np.array(training_data_y.apply(lambda x: preprocessingHelper.one_hot_labels(x)).tolist())\n"
   ]
  },
  {
   "cell_type": "code",
   "execution_count": 89,
   "id": "feadce8f-144e-4390-9dff-c2c573512b91",
   "metadata": {},
   "outputs": [],
   "source": [
    "test_data = preprocessingHelper.read_in_json(\"Data/test_data.json\")\n",
    "\n",
    "test_data_x, test_data_y = test_data['input'], test_data['label']\n",
    "\n",
    "test_data_x = test_data_x.apply(lambda x: ChatBotHelper_Improved.nlp_preprocessing(x))\n",
    "\n",
    "X_test_improved = np.array(test_data_x.apply(lambda x: chatbotHelper.embed(x)).tolist())\n",
    "y_test_improved = np.array(test_data_y.apply(lambda x: preprocessingHelper.one_hot_labels(x)).tolist())"
   ]
  },
  {
   "cell_type": "code",
   "execution_count": 90,
   "id": "d2218272-ee31-43fe-866a-8b2fad666600",
   "metadata": {},
   "outputs": [
    {
     "name": "stdout",
     "output_type": "stream",
     "text": [
      "Epoch 1/50\n"
     ]
    },
    {
     "name": "stderr",
     "output_type": "stream",
     "text": [
      "/Users/nicholaskunze/Desktop/KI Projekte /MorningBriefingAI/morningbriefingai/lib/python3.12/site-packages/keras/src/layers/core/dense.py:93: UserWarning: Do not pass an `input_shape`/`input_dim` argument to a layer. When using Sequential models, prefer using an `Input(shape)` object as the first layer in the model instead.\n",
      "  super().__init__(activity_regularizer=activity_regularizer, **kwargs)\n"
     ]
    },
    {
     "name": "stdout",
     "output_type": "stream",
     "text": [
      "\u001b[1m4/4\u001b[0m \u001b[32m━━━━━━━━━━━━━━━━━━━━\u001b[0m\u001b[37m\u001b[0m \u001b[1m0s\u001b[0m 2ms/step - accuracy: 0.1750 - loss: 1.6433  \n",
      "Epoch 2/50\n",
      "\u001b[1m4/4\u001b[0m \u001b[32m━━━━━━━━━━━━━━━━━━━━\u001b[0m\u001b[37m\u001b[0m \u001b[1m0s\u001b[0m 3ms/step - accuracy: 0.2061 - loss: 1.5981\n",
      "Epoch 3/50\n",
      "\u001b[1m4/4\u001b[0m \u001b[32m━━━━━━━━━━━━━━━━━━━━\u001b[0m\u001b[37m\u001b[0m \u001b[1m0s\u001b[0m 3ms/step - accuracy: 0.2397 - loss: 1.5900\n",
      "Epoch 4/50\n",
      "\u001b[1m4/4\u001b[0m \u001b[32m━━━━━━━━━━━━━━━━━━━━\u001b[0m\u001b[37m\u001b[0m \u001b[1m0s\u001b[0m 3ms/step - accuracy: 0.2820 - loss: 1.5475\n",
      "Epoch 5/50\n",
      "\u001b[1m4/4\u001b[0m \u001b[32m━━━━━━━━━━━━━━━━━━━━\u001b[0m\u001b[37m\u001b[0m \u001b[1m0s\u001b[0m 3ms/step - accuracy: 0.3790 - loss: 1.5091\n",
      "Epoch 6/50\n",
      "\u001b[1m4/4\u001b[0m \u001b[32m━━━━━━━━━━━━━━━━━━━━\u001b[0m\u001b[37m\u001b[0m \u001b[1m0s\u001b[0m 3ms/step - accuracy: 0.4214 - loss: 1.5107\n",
      "Epoch 7/50\n",
      "\u001b[1m4/4\u001b[0m \u001b[32m━━━━━━━━━━━━━━━━━━━━\u001b[0m\u001b[37m\u001b[0m \u001b[1m0s\u001b[0m 3ms/step - accuracy: 0.5184 - loss: 1.4741\n",
      "Epoch 8/50\n",
      "\u001b[1m4/4\u001b[0m \u001b[32m━━━━━━━━━━━━━━━━━━━━\u001b[0m\u001b[37m\u001b[0m \u001b[1m0s\u001b[0m 3ms/step - accuracy: 0.5295 - loss: 1.4414\n",
      "Epoch 9/50\n",
      "\u001b[1m4/4\u001b[0m \u001b[32m━━━━━━━━━━━━━━━━━━━━\u001b[0m\u001b[37m\u001b[0m \u001b[1m0s\u001b[0m 3ms/step - accuracy: 0.5116 - loss: 1.4184\n",
      "Epoch 10/50\n",
      "\u001b[1m4/4\u001b[0m \u001b[32m━━━━━━━━━━━━━━━━━━━━\u001b[0m\u001b[37m\u001b[0m \u001b[1m0s\u001b[0m 3ms/step - accuracy: 0.5308 - loss: 1.4204\n",
      "Epoch 11/50\n",
      "\u001b[1m4/4\u001b[0m \u001b[32m━━━━━━━━━━━━━━━━━━━━\u001b[0m\u001b[37m\u001b[0m \u001b[1m0s\u001b[0m 2ms/step - accuracy: 0.6288 - loss: 1.3587\n",
      "Epoch 12/50\n",
      "\u001b[1m4/4\u001b[0m \u001b[32m━━━━━━━━━━━━━━━━━━━━\u001b[0m\u001b[37m\u001b[0m \u001b[1m0s\u001b[0m 2ms/step - accuracy: 0.6744 - loss: 1.3474\n",
      "Epoch 13/50\n",
      "\u001b[1m4/4\u001b[0m \u001b[32m━━━━━━━━━━━━━━━━━━━━\u001b[0m\u001b[37m\u001b[0m \u001b[1m0s\u001b[0m 2ms/step - accuracy: 0.6234 - loss: 1.3441\n",
      "Epoch 14/50\n",
      "\u001b[1m4/4\u001b[0m \u001b[32m━━━━━━━━━━━━━━━━━━━━\u001b[0m\u001b[37m\u001b[0m \u001b[1m0s\u001b[0m 2ms/step - accuracy: 0.6031 - loss: 1.2732\n",
      "Epoch 15/50\n",
      "\u001b[1m4/4\u001b[0m \u001b[32m━━━━━━━━━━━━━━━━━━━━\u001b[0m\u001b[37m\u001b[0m \u001b[1m0s\u001b[0m 2ms/step - accuracy: 0.6933 - loss: 1.1895\n",
      "Epoch 16/50\n",
      "\u001b[1m4/4\u001b[0m \u001b[32m━━━━━━━━━━━━━━━━━━━━\u001b[0m\u001b[37m\u001b[0m \u001b[1m0s\u001b[0m 3ms/step - accuracy: 0.6945 - loss: 1.1827\n",
      "Epoch 17/50\n",
      "\u001b[1m4/4\u001b[0m \u001b[32m━━━━━━━━━━━━━━━━━━━━\u001b[0m\u001b[37m\u001b[0m \u001b[1m0s\u001b[0m 3ms/step - accuracy: 0.7125 - loss: 1.1909\n",
      "Epoch 18/50\n",
      "\u001b[1m4/4\u001b[0m \u001b[32m━━━━━━━━━━━━━━━━━━━━\u001b[0m\u001b[37m\u001b[0m \u001b[1m0s\u001b[0m 3ms/step - accuracy: 0.8037 - loss: 1.1324\n",
      "Epoch 19/50\n",
      "\u001b[1m4/4\u001b[0m \u001b[32m━━━━━━━━━━━━━━━━━━━━\u001b[0m\u001b[37m\u001b[0m \u001b[1m0s\u001b[0m 3ms/step - accuracy: 0.7169 - loss: 1.1335\n",
      "Epoch 20/50\n",
      "\u001b[1m4/4\u001b[0m \u001b[32m━━━━━━━━━━━━━━━━━━━━\u001b[0m\u001b[37m\u001b[0m \u001b[1m0s\u001b[0m 2ms/step - accuracy: 0.6801 - loss: 1.0711\n",
      "Epoch 21/50\n",
      "\u001b[1m4/4\u001b[0m \u001b[32m━━━━━━━━━━━━━━━━━━━━\u001b[0m\u001b[37m\u001b[0m \u001b[1m0s\u001b[0m 3ms/step - accuracy: 0.7637 - loss: 0.9650\n",
      "Epoch 22/50\n",
      "\u001b[1m4/4\u001b[0m \u001b[32m━━━━━━━━━━━━━━━━━━━━\u001b[0m\u001b[37m\u001b[0m \u001b[1m0s\u001b[0m 3ms/step - accuracy: 0.8484 - loss: 0.9345\n",
      "Epoch 23/50\n",
      "\u001b[1m4/4\u001b[0m \u001b[32m━━━━━━━━━━━━━━━━━━━━\u001b[0m\u001b[37m\u001b[0m \u001b[1m0s\u001b[0m 3ms/step - accuracy: 0.8774 - loss: 0.8882\n",
      "Epoch 24/50\n",
      "\u001b[1m4/4\u001b[0m \u001b[32m━━━━━━━━━━━━━━━━━━━━\u001b[0m\u001b[37m\u001b[0m \u001b[1m0s\u001b[0m 3ms/step - accuracy: 0.8784 - loss: 0.8433\n",
      "Epoch 25/50\n",
      "\u001b[1m4/4\u001b[0m \u001b[32m━━━━━━━━━━━━━━━━━━━━\u001b[0m\u001b[37m\u001b[0m \u001b[1m0s\u001b[0m 3ms/step - accuracy: 0.9554 - loss: 0.8243\n",
      "Epoch 26/50\n",
      "\u001b[1m4/4\u001b[0m \u001b[32m━━━━━━━━━━━━━━━━━━━━\u001b[0m\u001b[37m\u001b[0m \u001b[1m0s\u001b[0m 3ms/step - accuracy: 0.9431 - loss: 0.7529\n",
      "Epoch 27/50\n",
      "\u001b[1m4/4\u001b[0m \u001b[32m━━━━━━━━━━━━━━━━━━━━\u001b[0m\u001b[37m\u001b[0m \u001b[1m0s\u001b[0m 3ms/step - accuracy: 0.9242 - loss: 0.7197\n",
      "Epoch 28/50\n",
      "\u001b[1m4/4\u001b[0m \u001b[32m━━━━━━━━━━━━━━━━━━━━\u001b[0m\u001b[37m\u001b[0m \u001b[1m0s\u001b[0m 2ms/step - accuracy: 0.9286 - loss: 0.6242\n",
      "Epoch 29/50\n",
      "\u001b[1m4/4\u001b[0m \u001b[32m━━━━━━━━━━━━━━━━━━━━\u001b[0m\u001b[37m\u001b[0m \u001b[1m0s\u001b[0m 3ms/step - accuracy: 0.9554 - loss: 0.6429\n",
      "Epoch 30/50\n",
      "\u001b[1m4/4\u001b[0m \u001b[32m━━━━━━━━━━━━━━━━━━━━\u001b[0m\u001b[37m\u001b[0m \u001b[1m0s\u001b[0m 3ms/step - accuracy: 0.9599 - loss: 0.5628\n",
      "Epoch 31/50\n",
      "\u001b[1m4/4\u001b[0m \u001b[32m━━━━━━━━━━━━━━━━━━━━\u001b[0m\u001b[37m\u001b[0m \u001b[1m0s\u001b[0m 3ms/step - accuracy: 0.9677 - loss: 0.6066\n",
      "Epoch 32/50\n",
      "\u001b[1m4/4\u001b[0m \u001b[32m━━━━━━━━━━━━━━━━━━━━\u001b[0m\u001b[37m\u001b[0m \u001b[1m0s\u001b[0m 3ms/step - accuracy: 1.0000 - loss: 0.5166\n",
      "Epoch 33/50\n",
      "\u001b[1m4/4\u001b[0m \u001b[32m━━━━━━━━━━━━━━━━━━━━\u001b[0m\u001b[37m\u001b[0m \u001b[1m0s\u001b[0m 3ms/step - accuracy: 0.9677 - loss: 0.4363\n",
      "Epoch 34/50\n",
      "\u001b[1m4/4\u001b[0m \u001b[32m━━━━━━━━━━━━━━━━━━━━\u001b[0m\u001b[37m\u001b[0m \u001b[1m0s\u001b[0m 3ms/step - accuracy: 0.9810 - loss: 0.4602\n",
      "Epoch 35/50\n",
      "\u001b[1m4/4\u001b[0m \u001b[32m━━━━━━━━━━━━━━━━━━━━\u001b[0m\u001b[37m\u001b[0m \u001b[1m0s\u001b[0m 3ms/step - accuracy: 1.0000 - loss: 0.3724\n",
      "Epoch 36/50\n",
      "\u001b[1m4/4\u001b[0m \u001b[32m━━━━━━━━━━━━━━━━━━━━\u001b[0m\u001b[37m\u001b[0m \u001b[1m0s\u001b[0m 3ms/step - accuracy: 1.0000 - loss: 0.3495\n",
      "Epoch 37/50\n",
      "\u001b[1m4/4\u001b[0m \u001b[32m━━━━━━━━━━━━━━━━━━━━\u001b[0m\u001b[37m\u001b[0m \u001b[1m0s\u001b[0m 3ms/step - accuracy: 0.9877 - loss: 0.3601\n",
      "Epoch 38/50\n",
      "\u001b[1m4/4\u001b[0m \u001b[32m━━━━━━━━━━━━━━━━━━━━\u001b[0m\u001b[37m\u001b[0m \u001b[1m0s\u001b[0m 3ms/step - accuracy: 1.0000 - loss: 0.2971\n",
      "Epoch 39/50\n",
      "\u001b[1m4/4\u001b[0m \u001b[32m━━━━━━━━━━━━━━━━━━━━\u001b[0m\u001b[37m\u001b[0m \u001b[1m0s\u001b[0m 3ms/step - accuracy: 1.0000 - loss: 0.2729\n",
      "Epoch 40/50\n",
      "\u001b[1m4/4\u001b[0m \u001b[32m━━━━━━━━━━━━━━━━━━━━\u001b[0m\u001b[37m\u001b[0m \u001b[1m0s\u001b[0m 3ms/step - accuracy: 1.0000 - loss: 0.2534\n",
      "Epoch 41/50\n",
      "\u001b[1m4/4\u001b[0m \u001b[32m━━━━━━━━━━━━━━━━━━━━\u001b[0m\u001b[37m\u001b[0m \u001b[1m0s\u001b[0m 3ms/step - accuracy: 0.9810 - loss: 0.2179\n",
      "Epoch 42/50\n",
      "\u001b[1m4/4\u001b[0m \u001b[32m━━━━━━━━━━━━━━━━━━━━\u001b[0m\u001b[37m\u001b[0m \u001b[1m0s\u001b[0m 3ms/step - accuracy: 1.0000 - loss: 0.2135\n",
      "Epoch 43/50\n",
      "\u001b[1m4/4\u001b[0m \u001b[32m━━━━━━━━━━━━━━━━━━━━\u001b[0m\u001b[37m\u001b[0m \u001b[1m0s\u001b[0m 3ms/step - accuracy: 0.9677 - loss: 0.2097\n",
      "Epoch 44/50\n",
      "\u001b[1m4/4\u001b[0m \u001b[32m━━━━━━━━━━━━━━━━━━━━\u001b[0m\u001b[37m\u001b[0m \u001b[1m0s\u001b[0m 3ms/step - accuracy: 1.0000 - loss: 0.1878\n",
      "Epoch 45/50\n",
      "\u001b[1m4/4\u001b[0m \u001b[32m━━━━━━━━━━━━━━━━━━━━\u001b[0m\u001b[37m\u001b[0m \u001b[1m0s\u001b[0m 3ms/step - accuracy: 1.0000 - loss: 0.1476\n",
      "Epoch 46/50\n",
      "\u001b[1m4/4\u001b[0m \u001b[32m━━━━━━━━━━━━━━━━━━━━\u001b[0m\u001b[37m\u001b[0m \u001b[1m0s\u001b[0m 3ms/step - accuracy: 1.0000 - loss: 0.1219\n",
      "Epoch 47/50\n",
      "\u001b[1m4/4\u001b[0m \u001b[32m━━━━━━━━━━━━━━━━━━━━\u001b[0m\u001b[37m\u001b[0m \u001b[1m0s\u001b[0m 3ms/step - accuracy: 1.0000 - loss: 0.1277\n",
      "Epoch 48/50\n",
      "\u001b[1m4/4\u001b[0m \u001b[32m━━━━━━━━━━━━━━━━━━━━\u001b[0m\u001b[37m\u001b[0m \u001b[1m0s\u001b[0m 3ms/step - accuracy: 1.0000 - loss: 0.1273\n",
      "Epoch 49/50\n",
      "\u001b[1m4/4\u001b[0m \u001b[32m━━━━━━━━━━━━━━━━━━━━\u001b[0m\u001b[37m\u001b[0m \u001b[1m0s\u001b[0m 3ms/step - accuracy: 1.0000 - loss: 0.1206\n",
      "Epoch 50/50\n",
      "\u001b[1m4/4\u001b[0m \u001b[32m━━━━━━━━━━━━━━━━━━━━\u001b[0m\u001b[37m\u001b[0m \u001b[1m0s\u001b[0m 3ms/step - accuracy: 1.0000 - loss: 0.0957\n"
     ]
    },
    {
     "data": {
      "text/plain": [
       "<keras.src.callbacks.history.History at 0x29529cb00>"
      ]
     },
     "execution_count": 90,
     "metadata": {},
     "output_type": "execute_result"
    }
   ],
   "source": [
    "# Create Model \n",
    "from tensorflow.keras.models import Sequential\n",
    "from tensorflow.keras.layers import Dense, Dropout\n",
    "\n",
    "model = Sequential([\n",
    "\n",
    "    Dense(128, input_dim=100, activation='relu'),  # 128 units, ReLU activation\n",
    "    \n",
    "    Dropout(0.5),\n",
    "\n",
    "    Dense(64, activation='relu'),  # 64 units, ReLU activation\n",
    "    \n",
    "    Dense(5, activation='softmax')  # Output layer with softmax for classification\n",
    "])\n",
    "\n",
    "model.compile(optimizer='adam', loss='categorical_crossentropy', metrics=['accuracy'])\n",
    "model.fit(X_train_improved, y_train_improved, epochs=50, batch_size=15)"
   ]
  },
  {
   "cell_type": "code",
   "execution_count": 91,
   "id": "a7c90972-6349-4f64-8530-c484054abc20",
   "metadata": {},
   "outputs": [
    {
     "name": "stdout",
     "output_type": "stream",
     "text": [
      "\u001b[1m1/1\u001b[0m \u001b[32m━━━━━━━━━━━━━━━━━━━━\u001b[0m\u001b[37m\u001b[0m \u001b[1m0s\u001b[0m 57ms/step - accuracy: 0.8800 - loss: 0.4600\n"
     ]
    },
    {
     "data": {
      "text/plain": [
       "[0.4599955081939697, 0.8799999952316284]"
      ]
     },
     "execution_count": 91,
     "metadata": {},
     "output_type": "execute_result"
    }
   ],
   "source": [
    "model.evaluate(X_test_improved,y_test_improved)"
   ]
  },
  {
   "cell_type": "code",
   "execution_count": 93,
   "id": "a2343984-a9e1-416b-8b01-311b53dc7941",
   "metadata": {},
   "outputs": [],
   "source": [
    "# Hyperparamter Tuning \n",
    "# Omitted to prevent overfitting"
   ]
  },
  {
   "cell_type": "code",
   "execution_count": 94,
   "id": "c2c4e422-ca3f-4a2c-a5e5-2bea8e3b2793",
   "metadata": {},
   "outputs": [
    {
     "name": "stderr",
     "output_type": "stream",
     "text": [
      "WARNING:absl:You are saving your model as an HDF5 file via `model.save()` or `keras.saving.save_model(model)`. This file format is considered legacy. We recommend using instead the native Keras format, e.g. `model.save('my_model.keras')` or `keras.saving.save_model(model, 'my_model.keras')`. \n"
     ]
    }
   ],
   "source": [
    "# Save Model\n",
    "model.save('chatbot_model.h5', include_optimizer=False)"
   ]
  },
  {
   "cell_type": "code",
   "execution_count": 95,
   "id": "66f589ba-3bc5-4543-86cc-6bcdfb5231e3",
   "metadata": {},
   "outputs": [],
   "source": [
    "# Save Bag of Words\n",
    "with open('vocab.json', 'w') as f:\n",
    "    json.dump(bag_of_words, f)"
   ]
  }
 ],
 "metadata": {
  "kernelspec": {
   "display_name": "Python 3 (ipykernel)",
   "language": "python",
   "name": "python3"
  },
  "language_info": {
   "codemirror_mode": {
    "name": "ipython",
    "version": 3
   },
   "file_extension": ".py",
   "mimetype": "text/x-python",
   "name": "python",
   "nbconvert_exporter": "python",
   "pygments_lexer": "ipython3",
   "version": "3.12.0"
  }
 },
 "nbformat": 4,
 "nbformat_minor": 5
}
